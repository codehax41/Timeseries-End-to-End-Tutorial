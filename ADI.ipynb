{
 "cells": [
  {
   "cell_type": "code",
   "execution_count": 1,
   "id": "f4094bde",
   "metadata": {},
   "outputs": [],
   "source": [
    "#Import necessary libraries\n",
    "import numpy as np\n"
   ]
  },
  {
   "cell_type": "code",
   "execution_count": 2,
   "id": "66c8bc3a",
   "metadata": {},
   "outputs": [],
   "source": [
    "#Create fn to classify timeeries to their demand pattern\n",
    "def classify_adi(demand_data):\n",
    "    damand_array = np.array(demand_data)\n",
    "    adi = np.mean(damand_array[damand_array > 0])\n",
    "    \n",
    "    #Classify ADI value\n",
    "    if adi < 1.3:\n",
    "        return 'Stable'\n",
    "    elif 1.3 <= adi < 2.5:\n",
    "        return 'Intermittent'\n",
    "    elif 2.5<= adi <4.0:\n",
    "        return 'Lumpy'\n",
    "    else:\n",
    "        return 'Erratic'"
   ]
  },
  {
   "cell_type": "code",
   "execution_count": 11,
   "id": "6a3dce6b",
   "metadata": {},
   "outputs": [],
   "source": [
    "#Sample data for 4 items\n",
    "item_1_pattern = [0,5,0,6,0,0,0,4,0,0,0,7] #Lumpy demand pattern\n",
    "item_2_pattern = [0,2,1,0,2,1,2,0,0,0,0,0] #Intermittent demand pattern\n",
    "item_3_pattern = [1,1,1,1,1,1,1,1,1,1,1,1] #Stable demand pattern\n",
    "item_4_pattern = [3,0,4,0,5,0,6,0,7,0,8,0] #Erratic demand pattern"
   ]
  },
  {
   "cell_type": "code",
   "execution_count": 12,
   "id": "417da8e6",
   "metadata": {},
   "outputs": [
    {
     "name": "stdout",
     "output_type": "stream",
     "text": [
      "Item 1 ADI Pattern: Erratic\n",
      "Item 2 ADI Pattern: Intermittent\n",
      "Item 3 ADI Pattern: Stable\n",
      "Item 4 ADI Pattern: Erratic\n"
     ]
    }
   ],
   "source": [
    "#Classify item based on adi\n",
    "item_1_pattern = classify_adi(item_1_pattern)\n",
    "item_2_pattern = classify_adi(item_2_pattern)\n",
    "item_3_pattern = classify_adi(item_3_pattern)\n",
    "item_4_pattern = classify_adi(item_4_pattern)\n",
    "\n",
    "print(f\"Item 1 ADI Pattern: {item_1_pattern}\")\n",
    "print(f\"Item 2 ADI Pattern: {item_2_pattern}\")\n",
    "print(f\"Item 3 ADI Pattern: {item_3_pattern}\")\n",
    "print(f\"Item 4 ADI Pattern: {item_4_pattern}\")"
   ]
  },
  {
   "cell_type": "code",
   "execution_count": null,
   "id": "6393da7f",
   "metadata": {},
   "outputs": [],
   "source": []
  },
  {
   "cell_type": "code",
   "execution_count": null,
   "id": "b82dff65",
   "metadata": {},
   "outputs": [],
   "source": []
  },
  {
   "cell_type": "code",
   "execution_count": null,
   "id": "57ec1431",
   "metadata": {},
   "outputs": [],
   "source": []
  }
 ],
 "metadata": {
  "kernelspec": {
   "display_name": "Python 3 (ipykernel)",
   "language": "python",
   "name": "python3"
  },
  "language_info": {
   "codemirror_mode": {
    "name": "ipython",
    "version": 3
   },
   "file_extension": ".py",
   "mimetype": "text/x-python",
   "name": "python",
   "nbconvert_exporter": "python",
   "pygments_lexer": "ipython3",
   "version": "3.11.5"
  }
 },
 "nbformat": 4,
 "nbformat_minor": 5
}
