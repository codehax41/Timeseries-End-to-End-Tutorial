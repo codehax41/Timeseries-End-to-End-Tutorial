{
 "cells": [
  {
   "cell_type": "code",
   "execution_count": 1,
   "id": "7c29d99e",
   "metadata": {},
   "outputs": [],
   "source": [
    "#Import libraries\n",
    "import pandas as pd\n",
    "import statsmodels.api as sm"
   ]
  },
  {
   "cell_type": "code",
   "execution_count": 2,
   "id": "d2dacbc1",
   "metadata": {},
   "outputs": [],
   "source": [
    "#Sample time series data\n",
    "data = pd.Series([10,12,15,18, 22, 25, 28,30,32,35,10,12,15,18, 22, 25, 28,30,32,35,20,43,56,34],\n",
    "                index=pd.date_range(start='2023-01-01', periods=24, freq='M'))"
   ]
  },
  {
   "cell_type": "code",
   "execution_count": 3,
   "id": "919c6864",
   "metadata": {},
   "outputs": [
    {
     "data": {
      "text/plain": [
       "2023-01-31    10\n",
       "2023-02-28    12\n",
       "2023-03-31    15\n",
       "2023-04-30    18\n",
       "2023-05-31    22\n",
       "2023-06-30    25\n",
       "2023-07-31    28\n",
       "2023-08-31    30\n",
       "2023-09-30    32\n",
       "2023-10-31    35\n",
       "2023-11-30    10\n",
       "2023-12-31    12\n",
       "2024-01-31    15\n",
       "2024-02-29    18\n",
       "2024-03-31    22\n",
       "2024-04-30    25\n",
       "2024-05-31    28\n",
       "2024-06-30    30\n",
       "2024-07-31    32\n",
       "2024-08-31    35\n",
       "2024-09-30    20\n",
       "2024-10-31    43\n",
       "2024-11-30    56\n",
       "2024-12-31    34\n",
       "Freq: M, dtype: int64"
      ]
     },
     "execution_count": 3,
     "metadata": {},
     "output_type": "execute_result"
    }
   ],
   "source": [
    "data"
   ]
  },
  {
   "cell_type": "code",
   "execution_count": 4,
   "id": "a6d99d9c",
   "metadata": {},
   "outputs": [],
   "source": [
    "#Creating lag features\n",
    "def create_lag_feature(data, lags):\n",
    "    lag_features = pd.DataFrame()\n",
    "    for i in range(1, + lags + 1):\n",
    "        lag_features[f'Lag_{i}'] = data.shift(i)\n",
    "    return lag_features"
   ]
  },
  {
   "cell_type": "code",
   "execution_count": 5,
   "id": "3d630f48",
   "metadata": {},
   "outputs": [],
   "source": [
    "#Calculating moving averages\n",
    "def create_ma_features(data, window):\n",
    "    ma_features = pd.DataFrame()\n",
    "    for i in range(1, window+1):\n",
    "        ma_features[f'MA_{i}'] = data.rolling(window=i).mean()\n",
    "    return ma_features"
   ]
  },
  {
   "cell_type": "code",
   "execution_count": 6,
   "id": "8e5a8261",
   "metadata": {},
   "outputs": [],
   "source": [
    "#Calculate trend feature\n",
    "def create_trend_feaure(data):\n",
    "    trend_feat = pd.DataFrame()\n",
    "    trend_feat['Trend'] = range(1, len(data)+1)\n",
    "    trend_feat.set_index(data.index, inplace=True)\n",
    "    return trend_feat"
   ]
  },
  {
   "cell_type": "code",
   "execution_count": 7,
   "id": "65f57881",
   "metadata": {},
   "outputs": [],
   "source": [
    "#Calculate seasonaliy feature\n",
    "def create_seasonality_feaure(data, period):\n",
    "    seasonality = pd.DataFrame()\n",
    "    seasonality['Seasonaliy'] = data.diff(periods = period)\n",
    "    return seasonality"
   ]
  },
  {
   "cell_type": "code",
   "execution_count": 8,
   "id": "812fa701",
   "metadata": {},
   "outputs": [],
   "source": [
    "#Create autocorrelation features\n",
    "def create_autocorrelation_features(data, lags):\n",
    "    auto_corr = pd.DataFrame()\n",
    "    for i in range(1, lags+1):\n",
    "        auto_corr[f'Autocorr_{i}'] = data.autocorr(lag=i)\n",
    "    return auto_corr"
   ]
  },
  {
   "cell_type": "code",
   "execution_count": 9,
   "id": "c8c98ff8",
   "metadata": {},
   "outputs": [],
   "source": [
    "#Function to calculate exponential Moving average\n",
    "def create_ema(data, span):\n",
    "    ema_feature = pd.DataFrame()\n",
    "    ema_feature['EMA'] = data.ewm(span=span, adjust=False).mean()\n",
    "    return ema_feature"
   ]
  },
  {
   "cell_type": "code",
   "execution_count": 10,
   "id": "393caeb0",
   "metadata": {},
   "outputs": [],
   "source": [
    "#Function to caalculate cum sum\n",
    "def create_cumulative_sum_feature(data):\n",
    "    cumsum_feat = pd.DataFrame()\n",
    "    cumsum_feat['Cumulative_Sum_3'] = data.rolling(window=3).mean()\n",
    "    cumsum_feat['Cumulative_Sum_6'] = data.rolling(window=6).mean()\n",
    "    return cumsum_feat"
   ]
  },
  {
   "cell_type": "code",
   "execution_count": 12,
   "id": "e316fae4",
   "metadata": {},
   "outputs": [],
   "source": [
    "#Calculate trend feature\n",
    "def create_trend_feaure1(data):\n",
    "    data = pd.DataFrame(data)\n",
    "    trend_feat = pd.DataFrame()\n",
    "    result = sm.tsa.seasonal_decompose(data[0], model='additive')\n",
    "    trend_feat['Trend 1'] = result.trend\n",
    "    trend_feat.set_index(data.index, inplace=True)\n",
    "    return trend_feat\n",
    "\n",
    "#Calculate Seas feature\n",
    "def create_seas_feaure1(data):\n",
    "    data = pd.DataFrame(data)\n",
    "    seas_feat = pd.DataFrame()\n",
    "    result = sm.tsa.seasonal_decompose(data[0], model='additive')\n",
    "    seas_feat['Seasonality 1'] = result.seasonal\n",
    "    seas_feat.set_index(data.index, inplace=True)\n",
    "    return seas_feat"
   ]
  },
  {
   "cell_type": "code",
   "execution_count": 13,
   "id": "3789b32f",
   "metadata": {},
   "outputs": [],
   "source": [
    "#Lets call all the functions above and append the features to the original df\n",
    "lag_features = create_lag_feature(data, 3)\n",
    "ma_features = create_ma_features(data, 3)\n",
    "trend_feature = create_trend_feaure(data)\n",
    "seas_feature = create_seasonality_feaure(data, 1)\n",
    "auto_corr = create_autocorrelation_features(data, 3)\n",
    "ema_feat = create_ema(data, 3)\n",
    "cum_sum = create_cumulative_sum_feature(data)\n",
    "\n",
    "trend1 = create_trend_feaure1(data)\n",
    "seas1 = create_seas_feaure1(data)"
   ]
  },
  {
   "cell_type": "code",
   "execution_count": 14,
   "id": "52ddde93",
   "metadata": {},
   "outputs": [],
   "source": [
    "features = [lag_features, ma_features, trend_feature, seas_feature, auto_corr, ema_feat, cum_sum, trend1, seas1]\n",
    "data = pd.concat([data]+features, axis=1)"
   ]
  },
  {
   "cell_type": "code",
   "execution_count": 15,
   "id": "4ccdbffe",
   "metadata": {},
   "outputs": [
    {
     "data": {
      "text/html": [
       "<div>\n",
       "<style scoped>\n",
       "    .dataframe tbody tr th:only-of-type {\n",
       "        vertical-align: middle;\n",
       "    }\n",
       "\n",
       "    .dataframe tbody tr th {\n",
       "        vertical-align: top;\n",
       "    }\n",
       "\n",
       "    .dataframe thead th {\n",
       "        text-align: right;\n",
       "    }\n",
       "</style>\n",
       "<table border=\"1\" class=\"dataframe\">\n",
       "  <thead>\n",
       "    <tr style=\"text-align: right;\">\n",
       "      <th></th>\n",
       "      <th>0</th>\n",
       "      <th>Lag_1</th>\n",
       "      <th>Lag_2</th>\n",
       "      <th>Lag_3</th>\n",
       "      <th>MA_1</th>\n",
       "      <th>MA_2</th>\n",
       "      <th>MA_3</th>\n",
       "      <th>Trend</th>\n",
       "      <th>Seasonaliy</th>\n",
       "      <th>Autocorr_1</th>\n",
       "      <th>Autocorr_2</th>\n",
       "      <th>Autocorr_3</th>\n",
       "      <th>EMA</th>\n",
       "      <th>Cumulative_Sum_3</th>\n",
       "      <th>Cumulative_Sum_6</th>\n",
       "      <th>Trend 1</th>\n",
       "      <th>Seasonality 1</th>\n",
       "    </tr>\n",
       "  </thead>\n",
       "  <tbody>\n",
       "    <tr>\n",
       "      <th>2023-01-31 00:00:00</th>\n",
       "      <td>10</td>\n",
       "      <td>NaN</td>\n",
       "      <td>NaN</td>\n",
       "      <td>NaN</td>\n",
       "      <td>10.0</td>\n",
       "      <td>NaN</td>\n",
       "      <td>NaN</td>\n",
       "      <td>1</td>\n",
       "      <td>NaN</td>\n",
       "      <td>NaN</td>\n",
       "      <td>NaN</td>\n",
       "      <td>NaN</td>\n",
       "      <td>10.00</td>\n",
       "      <td>NaN</td>\n",
       "      <td>NaN</td>\n",
       "      <td>NaN</td>\n",
       "      <td>-8.954861</td>\n",
       "    </tr>\n",
       "    <tr>\n",
       "      <th>2023-02-28 00:00:00</th>\n",
       "      <td>12</td>\n",
       "      <td>10.0</td>\n",
       "      <td>NaN</td>\n",
       "      <td>NaN</td>\n",
       "      <td>12.0</td>\n",
       "      <td>11.0</td>\n",
       "      <td>NaN</td>\n",
       "      <td>2</td>\n",
       "      <td>2.0</td>\n",
       "      <td>NaN</td>\n",
       "      <td>NaN</td>\n",
       "      <td>NaN</td>\n",
       "      <td>11.00</td>\n",
       "      <td>NaN</td>\n",
       "      <td>NaN</td>\n",
       "      <td>NaN</td>\n",
       "      <td>-6.329861</td>\n",
       "    </tr>\n",
       "    <tr>\n",
       "      <th>2023-03-31 00:00:00</th>\n",
       "      <td>15</td>\n",
       "      <td>12.0</td>\n",
       "      <td>10.0</td>\n",
       "      <td>NaN</td>\n",
       "      <td>15.0</td>\n",
       "      <td>13.5</td>\n",
       "      <td>12.333333</td>\n",
       "      <td>3</td>\n",
       "      <td>3.0</td>\n",
       "      <td>NaN</td>\n",
       "      <td>NaN</td>\n",
       "      <td>NaN</td>\n",
       "      <td>13.00</td>\n",
       "      <td>12.333333</td>\n",
       "      <td>NaN</td>\n",
       "      <td>NaN</td>\n",
       "      <td>-2.038194</td>\n",
       "    </tr>\n",
       "    <tr>\n",
       "      <th>2023-04-30 00:00:00</th>\n",
       "      <td>18</td>\n",
       "      <td>15.0</td>\n",
       "      <td>12.0</td>\n",
       "      <td>10.0</td>\n",
       "      <td>18.0</td>\n",
       "      <td>16.5</td>\n",
       "      <td>15.000000</td>\n",
       "      <td>4</td>\n",
       "      <td>3.0</td>\n",
       "      <td>NaN</td>\n",
       "      <td>NaN</td>\n",
       "      <td>NaN</td>\n",
       "      <td>15.50</td>\n",
       "      <td>15.000000</td>\n",
       "      <td>NaN</td>\n",
       "      <td>NaN</td>\n",
       "      <td>1.128472</td>\n",
       "    </tr>\n",
       "    <tr>\n",
       "      <th>2023-05-31 00:00:00</th>\n",
       "      <td>22</td>\n",
       "      <td>18.0</td>\n",
       "      <td>15.0</td>\n",
       "      <td>12.0</td>\n",
       "      <td>22.0</td>\n",
       "      <td>20.0</td>\n",
       "      <td>18.333333</td>\n",
       "      <td>5</td>\n",
       "      <td>4.0</td>\n",
       "      <td>NaN</td>\n",
       "      <td>NaN</td>\n",
       "      <td>NaN</td>\n",
       "      <td>18.75</td>\n",
       "      <td>18.333333</td>\n",
       "      <td>NaN</td>\n",
       "      <td>NaN</td>\n",
       "      <td>1.878472</td>\n",
       "    </tr>\n",
       "  </tbody>\n",
       "</table>\n",
       "</div>"
      ],
      "text/plain": [
       "                      0  Lag_1  Lag_2  Lag_3  MA_1  MA_2       MA_3  Trend  \\\n",
       "2023-01-31 00:00:00  10    NaN    NaN    NaN  10.0   NaN        NaN      1   \n",
       "2023-02-28 00:00:00  12   10.0    NaN    NaN  12.0  11.0        NaN      2   \n",
       "2023-03-31 00:00:00  15   12.0   10.0    NaN  15.0  13.5  12.333333      3   \n",
       "2023-04-30 00:00:00  18   15.0   12.0   10.0  18.0  16.5  15.000000      4   \n",
       "2023-05-31 00:00:00  22   18.0   15.0   12.0  22.0  20.0  18.333333      5   \n",
       "\n",
       "                     Seasonaliy  Autocorr_1  Autocorr_2  Autocorr_3    EMA  \\\n",
       "2023-01-31 00:00:00         NaN         NaN         NaN         NaN  10.00   \n",
       "2023-02-28 00:00:00         2.0         NaN         NaN         NaN  11.00   \n",
       "2023-03-31 00:00:00         3.0         NaN         NaN         NaN  13.00   \n",
       "2023-04-30 00:00:00         3.0         NaN         NaN         NaN  15.50   \n",
       "2023-05-31 00:00:00         4.0         NaN         NaN         NaN  18.75   \n",
       "\n",
       "                     Cumulative_Sum_3  Cumulative_Sum_6  Trend 1  \\\n",
       "2023-01-31 00:00:00               NaN               NaN      NaN   \n",
       "2023-02-28 00:00:00               NaN               NaN      NaN   \n",
       "2023-03-31 00:00:00         12.333333               NaN      NaN   \n",
       "2023-04-30 00:00:00         15.000000               NaN      NaN   \n",
       "2023-05-31 00:00:00         18.333333               NaN      NaN   \n",
       "\n",
       "                     Seasonality 1  \n",
       "2023-01-31 00:00:00      -8.954861  \n",
       "2023-02-28 00:00:00      -6.329861  \n",
       "2023-03-31 00:00:00      -2.038194  \n",
       "2023-04-30 00:00:00       1.128472  \n",
       "2023-05-31 00:00:00       1.878472  "
      ]
     },
     "execution_count": 15,
     "metadata": {},
     "output_type": "execute_result"
    }
   ],
   "source": [
    "data.head()"
   ]
  },
  {
   "cell_type": "code",
   "execution_count": null,
   "id": "8552b400",
   "metadata": {},
   "outputs": [],
   "source": []
  },
  {
   "cell_type": "code",
   "execution_count": null,
   "id": "23a0cd73",
   "metadata": {},
   "outputs": [],
   "source": []
  },
  {
   "cell_type": "code",
   "execution_count": null,
   "id": "fd7b7f86",
   "metadata": {},
   "outputs": [],
   "source": []
  },
  {
   "cell_type": "code",
   "execution_count": null,
   "id": "666e643f",
   "metadata": {},
   "outputs": [],
   "source": []
  },
  {
   "cell_type": "code",
   "execution_count": null,
   "id": "fce552b0",
   "metadata": {},
   "outputs": [],
   "source": []
  },
  {
   "cell_type": "code",
   "execution_count": null,
   "id": "bcfc23b9",
   "metadata": {},
   "outputs": [],
   "source": []
  }
 ],
 "metadata": {
  "kernelspec": {
   "display_name": "Python 3 (ipykernel)",
   "language": "python",
   "name": "python3"
  },
  "language_info": {
   "codemirror_mode": {
    "name": "ipython",
    "version": 3
   },
   "file_extension": ".py",
   "mimetype": "text/x-python",
   "name": "python",
   "nbconvert_exporter": "python",
   "pygments_lexer": "ipython3",
   "version": "3.11.5"
  }
 },
 "nbformat": 4,
 "nbformat_minor": 5
}
