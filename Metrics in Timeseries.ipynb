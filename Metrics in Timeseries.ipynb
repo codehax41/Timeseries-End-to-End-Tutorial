{
 "cells": [
  {
   "cell_type": "code",
   "execution_count": 8,
   "id": "6868edc8",
   "metadata": {},
   "outputs": [],
   "source": [
    "#MAPE\n",
    "def mean_absolute_percentage_error(y_true, y_pred):\n",
    "    return np.mean(np.abs((y_true - y_pred) / y_true)) * 100\n",
    "\n",
    "#WAPE\n",
    "def weighted_average_percentage_error(y_true, y_pred, weights):\n",
    "    return np.sum(weights * np.abs((y_true - y_pred)/y_true)) / np.sum(weights) * 100\n",
    "\n",
    "#Forecast Bias\n",
    "def forecast_bias(y_true, y_pred):\n",
    "    return np.mean(y_pred-y_true)\n",
    "\n",
    "#Forecast Accuracy\n",
    "def forecast_accuracy(y_true, y_pred):\n",
    "    return (np.sum(y_true==y_pred)/len(y_true)) * 100"
   ]
  },
  {
   "cell_type": "code",
   "execution_count": 3,
   "id": "728b99d3",
   "metadata": {},
   "outputs": [],
   "source": [
    "#Import the numpy and pandas\n",
    "import pandas as pd\n",
    "import numpy as np"
   ]
  },
  {
   "cell_type": "code",
   "execution_count": 4,
   "id": "5c107feb",
   "metadata": {},
   "outputs": [],
   "source": [
    "#Generating a sample data\n",
    "np.random.seed(42)\n",
    "actual = np.random.rand(100)\n",
    "predicted_values = actual+np.random.randn(100)*0.1"
   ]
  },
  {
   "cell_type": "code",
   "execution_count": 5,
   "id": "307e357b",
   "metadata": {},
   "outputs": [
    {
     "data": {
      "text/plain": [
       "array([0.37454012, 0.95071431, 0.73199394, 0.59865848, 0.15601864,\n",
       "       0.15599452, 0.05808361, 0.86617615, 0.60111501, 0.70807258,\n",
       "       0.02058449, 0.96990985, 0.83244264, 0.21233911, 0.18182497,\n",
       "       0.18340451, 0.30424224, 0.52475643, 0.43194502, 0.29122914,\n",
       "       0.61185289, 0.13949386, 0.29214465, 0.36636184, 0.45606998,\n",
       "       0.78517596, 0.19967378, 0.51423444, 0.59241457, 0.04645041,\n",
       "       0.60754485, 0.17052412, 0.06505159, 0.94888554, 0.96563203,\n",
       "       0.80839735, 0.30461377, 0.09767211, 0.68423303, 0.44015249,\n",
       "       0.12203823, 0.49517691, 0.03438852, 0.9093204 , 0.25877998,\n",
       "       0.66252228, 0.31171108, 0.52006802, 0.54671028, 0.18485446,\n",
       "       0.96958463, 0.77513282, 0.93949894, 0.89482735, 0.59789998,\n",
       "       0.92187424, 0.0884925 , 0.19598286, 0.04522729, 0.32533033,\n",
       "       0.38867729, 0.27134903, 0.82873751, 0.35675333, 0.28093451,\n",
       "       0.54269608, 0.14092422, 0.80219698, 0.07455064, 0.98688694,\n",
       "       0.77224477, 0.19871568, 0.00552212, 0.81546143, 0.70685734,\n",
       "       0.72900717, 0.77127035, 0.07404465, 0.35846573, 0.11586906,\n",
       "       0.86310343, 0.62329813, 0.33089802, 0.06355835, 0.31098232,\n",
       "       0.32518332, 0.72960618, 0.63755747, 0.88721274, 0.47221493,\n",
       "       0.11959425, 0.71324479, 0.76078505, 0.5612772 , 0.77096718,\n",
       "       0.4937956 , 0.52273283, 0.42754102, 0.02541913, 0.10789143])"
      ]
     },
     "execution_count": 5,
     "metadata": {},
     "output_type": "execute_result"
    }
   ],
   "source": [
    "actual"
   ]
  },
  {
   "cell_type": "code",
   "execution_count": 6,
   "id": "f8d2db20",
   "metadata": {},
   "outputs": [
    {
     "data": {
      "text/plain": [
       "array([ 0.38324483,  0.92081357,  0.74117002,  0.39990159,  0.13405145,\n",
       "        0.19170578,  0.20587302,  0.81434912,  0.52026565,  0.65789687,\n",
       "        0.11212471,  1.00278496,  0.77946662,  0.26366585,  0.19153272,\n",
       "        0.28026901,  0.23403693,  0.49199022,  0.3927342 ,  0.14487765,\n",
       "        0.64146492,  0.16559939,  0.29265599,  0.34290313,  0.31453291,\n",
       "        0.74311143,  0.16540233,  0.43400671,  0.576286  ,  0.0868555 ,\n",
       "        0.79616344,  0.1879819 ,  0.09080663,  0.94144095,  0.77375491,\n",
       "        0.80574596,  0.31063679,  0.34399633,  0.66499693,  0.47030723,\n",
       "        0.11856706,  0.37830911,  0.1486708 ,  0.98451371,  0.33788318,\n",
       "        0.57158354,  0.45199051,  0.37988291,  0.60539599,  0.40390002,\n",
       "        0.870531  ,  0.71850305,  0.94946408,  0.84447979,  0.44283364,\n",
       "        0.92873053, -0.01773787,  0.24334211, -0.04671513,  0.48032377,\n",
       "        0.31035196,  0.23914288,  0.91008923,  0.2336669 ,  0.3036805 ,\n",
       "        0.67341036, -0.0198241 ,  0.82066037,  0.10053892,  1.06506922,\n",
       "        0.6485497 ,  0.06667002,  0.05771627,  0.8451599 ,  0.73190663,\n",
       "        0.76365199,  0.70326787,  0.09727002,  0.38777298,  0.04443392,\n",
       "        1.04968088,  0.67068142,  0.21176768,  0.12921371,  0.21351415,\n",
       "        0.40389178,  0.84546574,  0.55548924,  0.98355036,  0.51349302,\n",
       "        0.20180026,  0.90292409,  0.73624624,  0.48590358,  0.68201574,\n",
       "        0.41221457,  0.51502266,  0.46165622,  0.05308821,  0.19060975])"
      ]
     },
     "execution_count": 6,
     "metadata": {},
     "output_type": "execute_result"
    }
   ],
   "source": [
    "predicted_values"
   ]
  },
  {
   "cell_type": "code",
   "execution_count": 10,
   "id": "a0ebac10",
   "metadata": {},
   "outputs": [],
   "source": [
    "#calculate Metrics\n",
    "mape = mean_absolute_percentage_error(actual, predicted_values)\n",
    "wape = weighted_average_percentage_error(actual, predicted_values, np.random.rand(100))\n",
    "fb = forecast_bias(actual, predicted_values)\n",
    "fa = forecast_accuracy(np.round(actual), np.round(predicted_values))"
   ]
  },
  {
   "cell_type": "code",
   "execution_count": 11,
   "id": "19acef3f",
   "metadata": {},
   "outputs": [
    {
     "name": "stdout",
     "output_type": "stream",
     "text": [
      "MAPE: 46.21%\n",
      "WAPE: 35.02%\n",
      "Forecast Bias: -0.00%\n",
      "Forecast Accuracy: 93.00%\n"
     ]
    }
   ],
   "source": [
    "print(f\"MAPE: {mape:.2f}%\")\n",
    "print(f\"WAPE: {wape:.2f}%\")\n",
    "print(f\"Forecast Bias: {fb:.2f}%\")\n",
    "print(f\"Forecast Accuracy: {fa:.2f}%\")"
   ]
  },
  {
   "cell_type": "code",
   "execution_count": null,
   "id": "94197100",
   "metadata": {},
   "outputs": [],
   "source": []
  },
  {
   "cell_type": "code",
   "execution_count": null,
   "id": "915e3a92",
   "metadata": {},
   "outputs": [],
   "source": []
  },
  {
   "cell_type": "code",
   "execution_count": null,
   "id": "2f5b92dc",
   "metadata": {},
   "outputs": [],
   "source": []
  },
  {
   "cell_type": "code",
   "execution_count": null,
   "id": "33a65cdd",
   "metadata": {},
   "outputs": [],
   "source": []
  },
  {
   "cell_type": "code",
   "execution_count": null,
   "id": "548da64e",
   "metadata": {},
   "outputs": [],
   "source": []
  },
  {
   "cell_type": "code",
   "execution_count": null,
   "id": "865fca24",
   "metadata": {},
   "outputs": [],
   "source": []
  },
  {
   "cell_type": "code",
   "execution_count": null,
   "id": "18847bc9",
   "metadata": {},
   "outputs": [],
   "source": []
  },
  {
   "cell_type": "code",
   "execution_count": null,
   "id": "931151a7",
   "metadata": {},
   "outputs": [],
   "source": []
  },
  {
   "cell_type": "code",
   "execution_count": null,
   "id": "33bd3ccd",
   "metadata": {},
   "outputs": [],
   "source": []
  },
  {
   "cell_type": "code",
   "execution_count": null,
   "id": "fd1e0508",
   "metadata": {},
   "outputs": [],
   "source": []
  }
 ],
 "metadata": {
  "kernelspec": {
   "display_name": "Python 3 (ipykernel)",
   "language": "python",
   "name": "python3"
  },
  "language_info": {
   "codemirror_mode": {
    "name": "ipython",
    "version": 3
   },
   "file_extension": ".py",
   "mimetype": "text/x-python",
   "name": "python",
   "nbconvert_exporter": "python",
   "pygments_lexer": "ipython3",
   "version": "3.11.5"
  }
 },
 "nbformat": 4,
 "nbformat_minor": 5
}
